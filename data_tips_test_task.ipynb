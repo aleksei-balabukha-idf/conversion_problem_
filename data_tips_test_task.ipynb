{
 "cells": [
  {
   "cell_type": "markdown",
   "metadata": {},
   "source": [
    "# Task"
   ]
  },
  {
   "cell_type": "code",
   "execution_count": 7,
   "metadata": {},
   "outputs": [],
   "source": [
    "# import libraries\n",
    "import pandas as pd"
   ]
  },
  {
   "cell_type": "markdown",
   "metadata": {},
   "source": [
    "### EDA (Exploratory Data Analysis)"
   ]
  },
  {
   "cell_type": "code",
   "execution_count": 8,
   "metadata": {},
   "outputs": [
    {
     "data": {
      "text/html": [
       "<div>\n",
       "<style scoped>\n",
       "    .dataframe tbody tr th:only-of-type {\n",
       "        vertical-align: middle;\n",
       "    }\n",
       "\n",
       "    .dataframe tbody tr th {\n",
       "        vertical-align: top;\n",
       "    }\n",
       "\n",
       "    .dataframe thead th {\n",
       "        text-align: right;\n",
       "    }\n",
       "</style>\n",
       "<table border=\"1\" class=\"dataframe\">\n",
       "  <thead>\n",
       "    <tr style=\"text-align: right;\">\n",
       "      <th></th>\n",
       "      <th>client_event_time</th>\n",
       "      <th>device_id</th>\n",
       "      <th>session_id</th>\n",
       "      <th>language</th>\n",
       "      <th>country</th>\n",
       "      <th>region</th>\n",
       "      <th>platform</th>\n",
       "      <th>os_name</th>\n",
       "      <th>device_type</th>\n",
       "      <th>device_family</th>\n",
       "      <th>event_type</th>\n",
       "      <th>event_properties</th>\n",
       "      <th>user_properties</th>\n",
       "      <th>event_id</th>\n",
       "    </tr>\n",
       "  </thead>\n",
       "  <tbody>\n",
       "    <tr>\n",
       "      <th>0</th>\n",
       "      <td>2023-10-24 15:42:24.506</td>\n",
       "      <td>84bfeea2-f6ec-47c1-b9d0-791d1ac5c616</td>\n",
       "      <td>1698162134395</td>\n",
       "      <td>English</td>\n",
       "      <td>United States</td>\n",
       "      <td>North Carolina</td>\n",
       "      <td>Web</td>\n",
       "      <td>Chrome</td>\n",
       "      <td>NaN</td>\n",
       "      <td>K</td>\n",
       "      <td>session_end</td>\n",
       "      <td>{}</td>\n",
       "      <td>{'fbclid': 'IwAR295tUiGCljtUzVYpJ6BMKwmbhOsfWO...</td>\n",
       "      <td>0</td>\n",
       "    </tr>\n",
       "  </tbody>\n",
       "</table>\n",
       "</div>"
      ],
      "text/plain": [
       "         client_event_time                             device_id  \\\n",
       "0  2023-10-24 15:42:24.506  84bfeea2-f6ec-47c1-b9d0-791d1ac5c616   \n",
       "\n",
       "      session_id language        country          region platform os_name  \\\n",
       "0  1698162134395  English  United States  North Carolina      Web  Chrome   \n",
       "\n",
       "  device_type device_family   event_type event_properties  \\\n",
       "0         NaN             K  session_end               {}   \n",
       "\n",
       "                                     user_properties  event_id  \n",
       "0  {'fbclid': 'IwAR295tUiGCljtUzVYpJ6BMKwmbhOsfWO...         0  "
      ]
     },
     "execution_count": 8,
     "metadata": {},
     "output_type": "execute_result"
    }
   ],
   "source": [
    "# load data into pandas DataFrame\n",
    "df_initial = pd.read_csv('./data/amplitude_test.csv', index_col=0)\n",
    "df_initial['event_id'] = df_initial.index\n",
    "\n",
    "df_initial.head(1)"
   ]
  },
  {
   "cell_type": "markdown",
   "metadata": {},
   "source": [
    "### Построение Воронки (Funnel)  \n",
    "Для того, чтобы построить воронку конверсии на разных этапах оформления заказа мы выберем для каждой сессии те этапы, на которые вышел пользователь.  \n",
    "Для этого мы выберем только колонки *session_id* и *event_type* и затем уберем дубликаты. Таким образом мы получим все Этапы для каждой сессии.  \n",
    "В воронке мы будем считать количество сессий для каждого этапа воронки."
   ]
  },
  {
   "cell_type": "code",
   "execution_count": 9,
   "metadata": {},
   "outputs": [
    {
     "data": {
      "text/html": [
       "<div>\n",
       "<style scoped>\n",
       "    .dataframe tbody tr th:only-of-type {\n",
       "        vertical-align: middle;\n",
       "    }\n",
       "\n",
       "    .dataframe tbody tr th {\n",
       "        vertical-align: top;\n",
       "    }\n",
       "\n",
       "    .dataframe thead th {\n",
       "        text-align: right;\n",
       "    }\n",
       "</style>\n",
       "<table border=\"1\" class=\"dataframe\">\n",
       "  <thead>\n",
       "    <tr style=\"text-align: right;\">\n",
       "      <th></th>\n",
       "      <th>session_id</th>\n",
       "      <th>event_type</th>\n",
       "    </tr>\n",
       "  </thead>\n",
       "  <tbody>\n",
       "    <tr>\n",
       "      <th>0</th>\n",
       "      <td>1698162134395</td>\n",
       "      <td>session_end</td>\n",
       "    </tr>\n",
       "    <tr>\n",
       "      <th>1</th>\n",
       "      <td>1698250740429</td>\n",
       "      <td>session_start</td>\n",
       "    </tr>\n",
       "  </tbody>\n",
       "</table>\n",
       "</div>"
      ],
      "text/plain": [
       "      session_id     event_type\n",
       "0  1698162134395    session_end\n",
       "1  1698250740429  session_start"
      ]
     },
     "execution_count": 9,
     "metadata": {},
     "output_type": "execute_result"
    }
   ],
   "source": [
    "# take columns: session_id, event_type:  \n",
    "df_funnel = df_initial.copy()\n",
    "df_funnel = df_funnel[['session_id', 'event_type']]\n",
    "# drop duplicates:\n",
    "df_funnel = df_funnel.drop_duplicates()\n",
    "# save to csv file:\n",
    "df_funnel.to_csv('./data/df_funnel_session_event.csv', sep='|', index=False)\n",
    "df_funnel.head(2)"
   ]
  },
  {
   "cell_type": "markdown",
   "metadata": {},
   "source": [
    "![](./pic/1.png)"
   ]
  },
  {
   "cell_type": "markdown",
   "metadata": {},
   "source": [
    "В Воронке мы можем отметить следующее:\n",
    "- В продукте достаточно высокая конверсия в начало использования \"Конфигуратора\" (более половины всех пользователей, которым показали страницу, запустили конфигуратор). Изходя из этого делаем вывод о том, что сам конфигуратов представляется интересным пользователям\n",
    "- Конферсия в работу с конфигуратором также достаточно высокая\n",
    "- Далее мы видим существенное снижение конверсии (только 9,3% пользователей долшщи до Home page магазина)"
   ]
  },
  {
   "cell_type": "markdown",
   "metadata": {},
   "source": [
    "Продолжим рассмотрение воронки далее:\n",
    "- В продукте хорошая конверсия из *Home page* в *basket config*\n",
    "- Также далее коверсия тоже очень хорошая вплоть до *Random button*. Возникает вопрос к функционалу такой кнопки. Возможно она сбивает пользователей. Возможно она стоит слишком поздно в Client Journey или с ней возникают другие проблемы у пользователей. Возможно стоит провести тест, чтобы ее убрать.\n",
    "- Далее по воронке существенное снижение возникает на этапе перехода в корзину (в целом это логично, но с этим скорее всего есть возможность поработать - сделать напоминание о корзине, подсветить ее или использовать другие методы)  \n",
    "Таким образом, только 2,8% пользователей доходит до корзины."
   ]
  },
  {
   "cell_type": "markdown",
   "metadata": {},
   "source": [
    "![](./pic/4.png)"
   ]
  },
  {
   "cell_type": "markdown",
   "metadata": {},
   "source": [
    "Сгруппируем некоторый Events и уберем events, которые не относятся к воронке Target action (payment)"
   ]
  },
  {
   "cell_type": "markdown",
   "metadata": {},
   "source": [
    "![](./pic/5.png)"
   ]
  },
  {
   "cell_type": "markdown",
   "metadata": {},
   "source": [
    "Мы видим, что Клиентский путь остается достаточно сложным и оставляет много вопросов к необходимости тех или иных этапов в воронке: Random button, product card submitted etc."
   ]
  },
  {
   "cell_type": "markdown",
   "metadata": {},
   "source": [
    "### Funnel в различных разрезах"
   ]
  },
  {
   "cell_type": "markdown",
   "metadata": {},
   "source": [
    "Посмотрим на воронку продукта в различных разрезах:\n",
    "- Язык (language)\n",
    "- Страны (country)\n",
    "- Регион (region)\n",
    "- OS\n",
    "- Утройства (device_type)\n",
    "- device_family\n"
   ]
  },
  {
   "cell_type": "code",
   "execution_count": 10,
   "metadata": {},
   "outputs": [
    {
     "data": {
      "text/html": [
       "<div>\n",
       "<style scoped>\n",
       "    .dataframe tbody tr th:only-of-type {\n",
       "        vertical-align: middle;\n",
       "    }\n",
       "\n",
       "    .dataframe tbody tr th {\n",
       "        vertical-align: top;\n",
       "    }\n",
       "\n",
       "    .dataframe thead th {\n",
       "        text-align: right;\n",
       "    }\n",
       "</style>\n",
       "<table border=\"1\" class=\"dataframe\">\n",
       "  <thead>\n",
       "    <tr style=\"text-align: right;\">\n",
       "      <th></th>\n",
       "      <th>session_id</th>\n",
       "      <th>event_type</th>\n",
       "      <th>device_type</th>\n",
       "    </tr>\n",
       "  </thead>\n",
       "  <tbody>\n",
       "    <tr>\n",
       "      <th>0</th>\n",
       "      <td>1698162134395</td>\n",
       "      <td>session_end</td>\n",
       "      <td>NaN</td>\n",
       "    </tr>\n",
       "    <tr>\n",
       "      <th>1</th>\n",
       "      <td>1698250740429</td>\n",
       "      <td>session_start</td>\n",
       "      <td>NaN</td>\n",
       "    </tr>\n",
       "  </tbody>\n",
       "</table>\n",
       "</div>"
      ],
      "text/plain": [
       "      session_id     event_type device_type\n",
       "0  1698162134395    session_end         NaN\n",
       "1  1698250740429  session_start         NaN"
      ]
     },
     "execution_count": 10,
     "metadata": {},
     "output_type": "execute_result"
    }
   ],
   "source": [
    "# device type:\n",
    "df_funnel_device = df_initial.copy()\n",
    "df_funnel_device = df_funnel_device[['session_id', 'event_type', 'device_type']]\n",
    "df_funnel_device = df_funnel_device.drop_duplicates()\n",
    "df_funnel_device.to_csv('./data/df_funnel_device.csv', sep='|', index=False)\n",
    "df_funnel_device.head(2)"
   ]
  },
  {
   "cell_type": "markdown",
   "metadata": {},
   "source": [
    "Рассмотрим следующие группы Устройств:  \n",
    "![](./pic/6.png)"
   ]
  },
  {
   "cell_type": "markdown",
   "metadata": {},
   "source": [
    "![](./pic/7.png)"
   ]
  },
  {
   "cell_type": "markdown",
   "metadata": {},
   "source": [
    "Выше мы отметили, что самое существенное падение конверсии происходит на переходе в *Home page viewed*  \n",
    "Сравним этот этап для различных типов устройств:\n",
    "- Base Funnel - все пользователи\n",
    "- Null - устройство неопределено\n",
    "- Iphone\n",
    "- Samsung\n",
    "- Other  \n",
    "\n",
    "    - Мы можем видеть что самая низкая конверсия на рассматриваемом этапе наблюдается для Iphone и Samsung (остается 6.12% и 5% изначального трафика соответственно, в то время как глобальная цифра 9.26%, то есть существенно выше.)  \n",
    "    - В категории *NULL*, то есть пользователи, чьи устройства не были идентифицированны, конверсия на этом этапе сопоставима с глобальным средним.\n",
    "    - Также видно, что наилучшая конверсия в этот этап происходит в категории Other. Куда входят не только трафик мобильных устройств, но и другие. Посмотрим на Other более подробно, чтобы выявить лидеров по конверсии...\n"
   ]
  },
  {
   "cell_type": "markdown",
   "metadata": {},
   "source": [
    "![](./pic/8.png)"
   ]
  },
  {
   "cell_type": "markdown",
   "metadata": {},
   "source": [
    "- Видим, что конверсия среди пользователей других мобильных устройств сопоставима с конверсией пользователей Iphone и Samsung (то есть также низкая)\n",
    "- В тоже время конверсия среди пользователей Windows, Mac и Linux (то есть Desktop платформ) существенно выше (38.45%).  \n",
    "  \n",
    "\n",
    "Изходя из этого можно сделать предположение о том, что для пользователей мобильных устройств на этом этапе возникает какой-то барьер (неверно отображаются элементы и т.п.)  "
   ]
  },
  {
   "cell_type": "markdown",
   "metadata": {},
   "source": [
    "# Выводы  \n",
    "Исходя из аналитики воронки продукта можно сделать следующие выводы:\n",
    "- Наиболее острая \"боль\" продукта - низкая конверсия в Home Page среди пользователей **мобильных устройств**. Необходимо провести детальный инвестигейт клиентского пути на этом этапе.\n",
    "- Также возниют вопросы о необходимости всех этапов клиентского пути (возможно стоит провести тесты для проверки гипотез о том, что те или иные элементы воронки являются лишними или неэффективными)"
   ]
  },
  {
   "cell_type": "code",
   "execution_count": null,
   "metadata": {},
   "outputs": [],
   "source": []
  },
  {
   "cell_type": "markdown",
   "metadata": {},
   "source": [
    "# Доработка задания"
   ]
  },
  {
   "cell_type": "markdown",
   "metadata": {},
   "source": [
    "- Home page view не является частью воронки клиентского пути, это можно увидеть из схемы ниже:  \n",
    "![](./pic/9.png)"
   ]
  },
  {
   "cell_type": "markdown",
   "metadata": {},
   "source": [
    "Изсходя из этой схемы выделим только обязательные этапы воронки:  \n",
    "1. session_start\n",
    "2. Configurator start\n",
    "3. basket config pressed\n",
    "4. order view\n",
    "5. payment flow (personal info etc..)"
   ]
  },
  {
   "cell_type": "markdown",
   "metadata": {},
   "source": [
    "Рассмотрим воронку основных этапов заказа:  \n",
    "![](./pic/10.png)"
   ]
  },
  {
   "cell_type": "markdown",
   "metadata": {},
   "source": [
    "Из пользователей, которые попали на сайт, почти 42% пользователей теряется на первом шаге (начало работы с конфигуратором)  \n",
    "Посмотрим именно на этот этап воронки в разрезе устройств пользователей"
   ]
  },
  {
   "cell_type": "markdown",
   "metadata": {},
   "source": [
    "![](./pic/11.png)"
   ]
  },
  {
   "cell_type": "markdown",
   "metadata": {},
   "source": [
    "В целом видим, что на этом этапе срезается более 40% пользователей вне зависимости от типа устройства"
   ]
  },
  {
   "cell_type": "markdown",
   "metadata": {},
   "source": [
    "Также, внутри Other (куда входят Desktop платформы и другие мобильные устройства) не наблюдается различий на этом этапе воронки  \n",
    "![](./pic/12.png)"
   ]
  },
  {
   "cell_type": "markdown",
   "metadata": {},
   "source": [
    "### Languages"
   ]
  },
  {
   "cell_type": "markdown",
   "metadata": {},
   "source": [
    "![](./pic/13.png)"
   ]
  },
  {
   "cell_type": "markdown",
   "metadata": {},
   "source": [
    "В разрезе языков пользователей рассмотрим 3 самых растространенных: Анлийский, Немецкий, Русский и остальные объединим как Other   \n",
    "Можно увидеть, что худшая конверсия в запуск конфигуратора происходит среди пользователей, который используют Русский язык.  \n",
    "Исходя из этого можно было бы сделать предположение о том, что интерфейс сайта на Русском менее удобен для пользователей.  \n",
    "Также стоит отметить, что большая часть трафика - это пользователи, использующие Английский язык, однако конверсия среди таких пользователей хуже чем конверсия среди пользователей, исп. Немецкий язык - на это стоит обратить внимание."
   ]
  },
  {
   "cell_type": "markdown",
   "metadata": {},
   "source": [
    "## OS groups  \n",
    "![](./pic/14.png)"
   ]
  },
  {
   "cell_type": "markdown",
   "metadata": {},
   "source": [
    "- Instagram является лидером по количество пользователей на анализируемом сайте. Положительным является то, что конверсия в Корзину для этой платформы является самым высоким, однако до оплаты тем не менее доходит почти самая низкая доля пользователей относительно других платформ"
   ]
  },
  {
   "cell_type": "markdown",
   "metadata": {},
   "source": []
  },
  {
   "cell_type": "markdown",
   "metadata": {},
   "source": [
    "# Гипотезы"
   ]
  },
  {
   "cell_type": "markdown",
   "metadata": {},
   "source": [
    "- Работа с конфигуратором ослажнена для пользователей других языков (кроме Английского и Немецкого)\n",
    "    - Как проверить: взять для эксперимента один пример языка (Русский например), предложить возможные улучшения и затем запустить A/B тест для пользователей, использующих этот язык. Дизайн и интерпретация результатов A/B теста является важным вопросом, здесь отметить только основные моменты - необходимо верно выбрать метрику (наиболее близкую к изменению). Если мы проверяем изменения в конфигураторе, то берем конверсию связанную с ним (из начального экрана в работу с конфигуратором к примеру)\n",
    "    - В случае если изменения дадут статистически важную разницу для вариаций эксперимента (в лучшую сторону для новой версии конфигуратора на Русском) такое изменение можно перенести для всех пользователей, использующих Русский"
   ]
  },
  {
   "cell_type": "markdown",
   "metadata": {},
   "source": [
    "- Пользователи из Facebook и Instagram теряются сильнее других на этапе передачи персональных данных\n",
    "    - Проверка Гипотезы аналогичным образом"
   ]
  },
  {
   "cell_type": "markdown",
   "metadata": {},
   "source": []
  }
 ],
 "metadata": {
  "kernelspec": {
   "display_name": "Python 3",
   "language": "python",
   "name": "python3"
  },
  "language_info": {
   "codemirror_mode": {
    "name": "ipython",
    "version": 3
   },
   "file_extension": ".py",
   "mimetype": "text/x-python",
   "name": "python",
   "nbconvert_exporter": "python",
   "pygments_lexer": "ipython3",
   "version": "3.11.3"
  }
 },
 "nbformat": 4,
 "nbformat_minor": 2
}
