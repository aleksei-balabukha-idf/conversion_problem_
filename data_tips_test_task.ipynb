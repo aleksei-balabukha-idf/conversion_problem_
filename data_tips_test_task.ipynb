{
 "cells": [
  {
   "cell_type": "markdown",
   "metadata": {},
   "source": [
    "# Task"
   ]
  },
  {
   "cell_type": "code",
   "execution_count": 5,
   "metadata": {},
   "outputs": [],
   "source": [
    "# import libraries\n",
    "import pandas as pd"
   ]
  },
  {
   "cell_type": "markdown",
   "metadata": {},
   "source": [
    "### EDA (Exploratory Data Analysis)"
   ]
  },
  {
   "cell_type": "code",
   "execution_count": null,
   "metadata": {},
   "outputs": [
    {
     "data": {
      "text/html": [
       "<div>\n",
       "<style scoped>\n",
       "    .dataframe tbody tr th:only-of-type {\n",
       "        vertical-align: middle;\n",
       "    }\n",
       "\n",
       "    .dataframe tbody tr th {\n",
       "        vertical-align: top;\n",
       "    }\n",
       "\n",
       "    .dataframe thead th {\n",
       "        text-align: right;\n",
       "    }\n",
       "</style>\n",
       "<table border=\"1\" class=\"dataframe\">\n",
       "  <thead>\n",
       "    <tr style=\"text-align: right;\">\n",
       "      <th></th>\n",
       "      <th>client_event_time</th>\n",
       "      <th>device_id</th>\n",
       "      <th>session_id</th>\n",
       "      <th>language</th>\n",
       "      <th>country</th>\n",
       "      <th>region</th>\n",
       "      <th>platform</th>\n",
       "      <th>os_name</th>\n",
       "      <th>device_type</th>\n",
       "      <th>device_family</th>\n",
       "      <th>event_type</th>\n",
       "      <th>event_properties</th>\n",
       "      <th>user_properties</th>\n",
       "      <th>event_id</th>\n",
       "    </tr>\n",
       "  </thead>\n",
       "  <tbody>\n",
       "    <tr>\n",
       "      <th>0</th>\n",
       "      <td>2023-10-24 15:42:24.506</td>\n",
       "      <td>84bfeea2-f6ec-47c1-b9d0-791d1ac5c616</td>\n",
       "      <td>1698162134395</td>\n",
       "      <td>English</td>\n",
       "      <td>United States</td>\n",
       "      <td>North Carolina</td>\n",
       "      <td>Web</td>\n",
       "      <td>Chrome</td>\n",
       "      <td>NaN</td>\n",
       "      <td>K</td>\n",
       "      <td>session_end</td>\n",
       "      <td>{}</td>\n",
       "      <td>{'fbclid': 'IwAR295tUiGCljtUzVYpJ6BMKwmbhOsfWO...</td>\n",
       "      <td>0</td>\n",
       "    </tr>\n",
       "    <tr>\n",
       "      <th>1</th>\n",
       "      <td>2023-10-25 16:19:00.428</td>\n",
       "      <td>84bfeea2-f6ec-47c1-b9d0-791d1ac5c616</td>\n",
       "      <td>1698250740429</td>\n",
       "      <td>English</td>\n",
       "      <td>United States</td>\n",
       "      <td>North Carolina</td>\n",
       "      <td>Web</td>\n",
       "      <td>Chrome</td>\n",
       "      <td>NaN</td>\n",
       "      <td>K</td>\n",
       "      <td>session_start</td>\n",
       "      <td>{}</td>\n",
       "      <td>{'fbclid': 'IwAR295tUiGCljtUzVYpJ6BMKwmbhOsfWO...</td>\n",
       "      <td>1</td>\n",
       "    </tr>\n",
       "    <tr>\n",
       "      <th>2</th>\n",
       "      <td>2023-10-25 16:19:01.809</td>\n",
       "      <td>84bfeea2-f6ec-47c1-b9d0-791d1ac5c616</td>\n",
       "      <td>1698250740429</td>\n",
       "      <td>English</td>\n",
       "      <td>United States</td>\n",
       "      <td>North Carolina</td>\n",
       "      <td>Web</td>\n",
       "      <td>Chrome</td>\n",
       "      <td>NaN</td>\n",
       "      <td>K</td>\n",
       "      <td>[Amplitude] Page Viewed</td>\n",
       "      <td>{'[Amplitude] Page URL': 'https://example.com/...</td>\n",
       "      <td>{'fbclid': 'IwAR295tUiGCljtUzVYpJ6BMKwmbhOsfWO...</td>\n",
       "      <td>2</td>\n",
       "    </tr>\n",
       "    <tr>\n",
       "      <th>3</th>\n",
       "      <td>2023-10-25 16:19:01.878</td>\n",
       "      <td>84bfeea2-f6ec-47c1-b9d0-791d1ac5c616</td>\n",
       "      <td>1698250740429</td>\n",
       "      <td>English</td>\n",
       "      <td>United States</td>\n",
       "      <td>North Carolina</td>\n",
       "      <td>Web</td>\n",
       "      <td>Chrome</td>\n",
       "      <td>NaN</td>\n",
       "      <td>K</td>\n",
       "      <td>Configurator start</td>\n",
       "      <td>{'type': 'Hoodie', 'point.header': 'https://ex...</td>\n",
       "      <td>{'fbclid': 'IwAR295tUiGCljtUzVYpJ6BMKwmbhOsfWO...</td>\n",
       "      <td>3</td>\n",
       "    </tr>\n",
       "    <tr>\n",
       "      <th>4</th>\n",
       "      <td>2023-10-25 16:19:01.880</td>\n",
       "      <td>84bfeea2-f6ec-47c1-b9d0-791d1ac5c616</td>\n",
       "      <td>1698250740429</td>\n",
       "      <td>English</td>\n",
       "      <td>United States</td>\n",
       "      <td>North Carolina</td>\n",
       "      <td>Web</td>\n",
       "      <td>Chrome</td>\n",
       "      <td>NaN</td>\n",
       "      <td>K</td>\n",
       "      <td>session_end</td>\n",
       "      <td>{}</td>\n",
       "      <td>{'fbclid': 'IwAR295tUiGCljtUzVYpJ6BMKwmbhOsfWO...</td>\n",
       "      <td>4</td>\n",
       "    </tr>\n",
       "    <tr>\n",
       "      <th>5</th>\n",
       "      <td>2023-11-06 00:01:23.464</td>\n",
       "      <td>84bfeea2-f6ec-47c1-b9d0-791d1ac5c616</td>\n",
       "      <td>1699228883465</td>\n",
       "      <td>English</td>\n",
       "      <td>United States</td>\n",
       "      <td>North Carolina</td>\n",
       "      <td>Web</td>\n",
       "      <td>Chrome</td>\n",
       "      <td>NaN</td>\n",
       "      <td>K</td>\n",
       "      <td>session_start</td>\n",
       "      <td>{}</td>\n",
       "      <td>{'fbclid': 'IwAR295tUiGCljtUzVYpJ6BMKwmbhOsfWO...</td>\n",
       "      <td>5</td>\n",
       "    </tr>\n",
       "  </tbody>\n",
       "</table>\n",
       "</div>"
      ],
      "text/plain": [
       "         client_event_time                             device_id  \\\n",
       "0  2023-10-24 15:42:24.506  84bfeea2-f6ec-47c1-b9d0-791d1ac5c616   \n",
       "1  2023-10-25 16:19:00.428  84bfeea2-f6ec-47c1-b9d0-791d1ac5c616   \n",
       "2  2023-10-25 16:19:01.809  84bfeea2-f6ec-47c1-b9d0-791d1ac5c616   \n",
       "3  2023-10-25 16:19:01.878  84bfeea2-f6ec-47c1-b9d0-791d1ac5c616   \n",
       "4  2023-10-25 16:19:01.880  84bfeea2-f6ec-47c1-b9d0-791d1ac5c616   \n",
       "5  2023-11-06 00:01:23.464  84bfeea2-f6ec-47c1-b9d0-791d1ac5c616   \n",
       "\n",
       "      session_id language        country          region platform os_name  \\\n",
       "0  1698162134395  English  United States  North Carolina      Web  Chrome   \n",
       "1  1698250740429  English  United States  North Carolina      Web  Chrome   \n",
       "2  1698250740429  English  United States  North Carolina      Web  Chrome   \n",
       "3  1698250740429  English  United States  North Carolina      Web  Chrome   \n",
       "4  1698250740429  English  United States  North Carolina      Web  Chrome   \n",
       "5  1699228883465  English  United States  North Carolina      Web  Chrome   \n",
       "\n",
       "  device_type device_family               event_type  \\\n",
       "0         NaN             K              session_end   \n",
       "1         NaN             K            session_start   \n",
       "2         NaN             K  [Amplitude] Page Viewed   \n",
       "3         NaN             K       Configurator start   \n",
       "4         NaN             K              session_end   \n",
       "5         NaN             K            session_start   \n",
       "\n",
       "                                    event_properties  \\\n",
       "0                                                 {}   \n",
       "1                                                 {}   \n",
       "2  {'[Amplitude] Page URL': 'https://example.com/...   \n",
       "3  {'type': 'Hoodie', 'point.header': 'https://ex...   \n",
       "4                                                 {}   \n",
       "5                                                 {}   \n",
       "\n",
       "                                     user_properties  event_id  \n",
       "0  {'fbclid': 'IwAR295tUiGCljtUzVYpJ6BMKwmbhOsfWO...         0  \n",
       "1  {'fbclid': 'IwAR295tUiGCljtUzVYpJ6BMKwmbhOsfWO...         1  \n",
       "2  {'fbclid': 'IwAR295tUiGCljtUzVYpJ6BMKwmbhOsfWO...         2  \n",
       "3  {'fbclid': 'IwAR295tUiGCljtUzVYpJ6BMKwmbhOsfWO...         3  \n",
       "4  {'fbclid': 'IwAR295tUiGCljtUzVYpJ6BMKwmbhOsfWO...         4  \n",
       "5  {'fbclid': 'IwAR295tUiGCljtUzVYpJ6BMKwmbhOsfWO...         5  "
      ]
     },
     "execution_count": 6,
     "metadata": {},
     "output_type": "execute_result"
    }
   ],
   "source": [
    "# load data into pandas DataFrame\n",
    "df_initial = pd.read_csv('./amplitude_test.csv', index_col=0)\n",
    "df_initial['event_id'] = df_initial.index\n",
    "\n",
    "df_initial.head(1)"
   ]
  },
  {
   "cell_type": "code",
   "execution_count": 7,
   "metadata": {},
   "outputs": [
    {
     "data": {
      "text/plain": [
       "17599"
      ]
     },
     "execution_count": 7,
     "metadata": {},
     "output_type": "execute_result"
    }
   ],
   "source": [
    "len(df_initial['session_id'].unique())"
   ]
  },
  {
   "cell_type": "code",
   "execution_count": 30,
   "metadata": {},
   "outputs": [
    {
     "data": {
      "text/html": [
       "<div>\n",
       "<style scoped>\n",
       "    .dataframe tbody tr th:only-of-type {\n",
       "        vertical-align: middle;\n",
       "    }\n",
       "\n",
       "    .dataframe tbody tr th {\n",
       "        vertical-align: top;\n",
       "    }\n",
       "\n",
       "    .dataframe thead th {\n",
       "        text-align: right;\n",
       "    }\n",
       "</style>\n",
       "<table border=\"1\" class=\"dataframe\">\n",
       "  <thead>\n",
       "    <tr style=\"text-align: right;\">\n",
       "      <th></th>\n",
       "      <th>client_event_time</th>\n",
       "      <th>device_id</th>\n",
       "      <th>session_id</th>\n",
       "      <th>language</th>\n",
       "      <th>country</th>\n",
       "      <th>region</th>\n",
       "      <th>platform</th>\n",
       "      <th>os_name</th>\n",
       "      <th>device_type</th>\n",
       "      <th>device_family</th>\n",
       "      <th>event_type</th>\n",
       "      <th>event_properties</th>\n",
       "      <th>user_properties</th>\n",
       "      <th>event_id</th>\n",
       "    </tr>\n",
       "  </thead>\n",
       "  <tbody>\n",
       "    <tr>\n",
       "      <th>621933</th>\n",
       "      <td>2023-11-25 10:39:39.173</td>\n",
       "      <td>28ad24a0-4855-4ba3-a4e8-08d3c87c4e5a</td>\n",
       "      <td>1700908779174</td>\n",
       "      <td>Serbian</td>\n",
       "      <td>Serbia</td>\n",
       "      <td>Belgrade</td>\n",
       "      <td>Web</td>\n",
       "      <td>Instagram</td>\n",
       "      <td>Samsung Galaxy S20 FE</td>\n",
       "      <td>Samsung Phone</td>\n",
       "      <td>session_start</td>\n",
       "      <td>{}</td>\n",
       "      <td>{}</td>\n",
       "      <td>621933</td>\n",
       "    </tr>\n",
       "    <tr>\n",
       "      <th>621934</th>\n",
       "      <td>2023-11-25 10:39:39.325</td>\n",
       "      <td>28ad24a0-4855-4ba3-a4e8-08d3c87c4e5a</td>\n",
       "      <td>1700908779174</td>\n",
       "      <td>Serbian</td>\n",
       "      <td>Serbia</td>\n",
       "      <td>Belgrade</td>\n",
       "      <td>Web</td>\n",
       "      <td>Instagram</td>\n",
       "      <td>Samsung Galaxy S20 FE</td>\n",
       "      <td>Samsung Phone</td>\n",
       "      <td>[Amplitude] Page Viewed</td>\n",
       "      <td>{'[Amplitude] Page URL': 'https://example.com/...</td>\n",
       "      <td>{'fbclid': 'PAAaZQoV0BVodHokL3W9m74EZH0hK_2gCY...</td>\n",
       "      <td>621934</td>\n",
       "    </tr>\n",
       "  </tbody>\n",
       "</table>\n",
       "</div>"
      ],
      "text/plain": [
       "              client_event_time                             device_id  \\\n",
       "621933  2023-11-25 10:39:39.173  28ad24a0-4855-4ba3-a4e8-08d3c87c4e5a   \n",
       "621934  2023-11-25 10:39:39.325  28ad24a0-4855-4ba3-a4e8-08d3c87c4e5a   \n",
       "\n",
       "           session_id language country    region platform    os_name  \\\n",
       "621933  1700908779174  Serbian  Serbia  Belgrade      Web  Instagram   \n",
       "621934  1700908779174  Serbian  Serbia  Belgrade      Web  Instagram   \n",
       "\n",
       "                  device_type  device_family               event_type  \\\n",
       "621933  Samsung Galaxy S20 FE  Samsung Phone            session_start   \n",
       "621934  Samsung Galaxy S20 FE  Samsung Phone  [Amplitude] Page Viewed   \n",
       "\n",
       "                                         event_properties  \\\n",
       "621933                                                 {}   \n",
       "621934  {'[Amplitude] Page URL': 'https://example.com/...   \n",
       "\n",
       "                                          user_properties  event_id  \n",
       "621933                                                 {}    621933  \n",
       "621934  {'fbclid': 'PAAaZQoV0BVodHokL3W9m74EZH0hK_2gCY...    621934  "
      ]
     },
     "execution_count": 30,
     "metadata": {},
     "output_type": "execute_result"
    }
   ],
   "source": [
    "df_session = df_initial.copy()\n",
    "df_session = df_session[df_session['session_id'] == 1700908779174]\n",
    "df_session = df_session.sort_values(by='client_event_time')\n",
    "df_session.head(2)"
   ]
  },
  {
   "cell_type": "markdown",
   "metadata": {},
   "source": [
    "### Построение Воронки (Funnel)  \n",
    "Для того, чтобы построить воронку конверсии на разных этапах оформления заказа мы выберем для каждой сессии те этапы, на которые вышел пользователь.  \n",
    "Для этого мы выберем только колонки *session_id* и *event_type* и затем уберем дубликаты. Таким образом мы получим все Этапы для каждой сессии.  \n",
    "В воронке мы будем считать количество сессий для каждого этапа воронки."
   ]
  },
  {
   "cell_type": "code",
   "execution_count": 21,
   "metadata": {},
   "outputs": [
    {
     "data": {
      "text/html": [
       "<div>\n",
       "<style scoped>\n",
       "    .dataframe tbody tr th:only-of-type {\n",
       "        vertical-align: middle;\n",
       "    }\n",
       "\n",
       "    .dataframe tbody tr th {\n",
       "        vertical-align: top;\n",
       "    }\n",
       "\n",
       "    .dataframe thead th {\n",
       "        text-align: right;\n",
       "    }\n",
       "</style>\n",
       "<table border=\"1\" class=\"dataframe\">\n",
       "  <thead>\n",
       "    <tr style=\"text-align: right;\">\n",
       "      <th></th>\n",
       "      <th>session_id</th>\n",
       "      <th>event_type</th>\n",
       "    </tr>\n",
       "  </thead>\n",
       "  <tbody>\n",
       "    <tr>\n",
       "      <th>0</th>\n",
       "      <td>1698162134395</td>\n",
       "      <td>session_end</td>\n",
       "    </tr>\n",
       "    <tr>\n",
       "      <th>1</th>\n",
       "      <td>1698250740429</td>\n",
       "      <td>session_start</td>\n",
       "    </tr>\n",
       "    <tr>\n",
       "      <th>2</th>\n",
       "      <td>1698250740429</td>\n",
       "      <td>[Amplitude] Page Viewed</td>\n",
       "    </tr>\n",
       "    <tr>\n",
       "      <th>3</th>\n",
       "      <td>1698250740429</td>\n",
       "      <td>Configurator start</td>\n",
       "    </tr>\n",
       "    <tr>\n",
       "      <th>4</th>\n",
       "      <td>1698250740429</td>\n",
       "      <td>session_end</td>\n",
       "    </tr>\n",
       "    <tr>\n",
       "      <th>...</th>\n",
       "      <td>...</td>\n",
       "      <td>...</td>\n",
       "    </tr>\n",
       "    <tr>\n",
       "      <th>815414</th>\n",
       "      <td>1701847657262</td>\n",
       "      <td>Next button clicked</td>\n",
       "    </tr>\n",
       "    <tr>\n",
       "      <th>815417</th>\n",
       "      <td>1701847657262</td>\n",
       "      <td>basket config pressed</td>\n",
       "    </tr>\n",
       "    <tr>\n",
       "      <th>815418</th>\n",
       "      <td>1701847657262</td>\n",
       "      <td>product add</td>\n",
       "    </tr>\n",
       "    <tr>\n",
       "      <th>815419</th>\n",
       "      <td>1701847657262</td>\n",
       "      <td>order view</td>\n",
       "    </tr>\n",
       "    <tr>\n",
       "      <th>815420</th>\n",
       "      <td>1701847657262</td>\n",
       "      <td>Add another one pressed</td>\n",
       "    </tr>\n",
       "  </tbody>\n",
       "</table>\n",
       "<p>64374 rows × 2 columns</p>\n",
       "</div>"
      ],
      "text/plain": [
       "           session_id               event_type\n",
       "0       1698162134395              session_end\n",
       "1       1698250740429            session_start\n",
       "2       1698250740429  [Amplitude] Page Viewed\n",
       "3       1698250740429       Configurator start\n",
       "4       1698250740429              session_end\n",
       "...               ...                      ...\n",
       "815414  1701847657262      Next button clicked\n",
       "815417  1701847657262    basket config pressed\n",
       "815418  1701847657262              product add\n",
       "815419  1701847657262               order view\n",
       "815420  1701847657262  Add another one pressed\n",
       "\n",
       "[64374 rows x 2 columns]"
      ]
     },
     "execution_count": 21,
     "metadata": {},
     "output_type": "execute_result"
    }
   ],
   "source": [
    "# take columns: session_id, event_type:  \n",
    "df_funnel = df_initial.copy()\n",
    "df_funnel = df_funnel[['session_id', 'event_type']]\n",
    "# drop duplicates:\n",
    "df_funnel = df_funnel.drop_duplicates()\n",
    "# save to csv file:\n",
    "df_funnel.to_csv('./df_funnel_session_event.csv', sep='|', index=False)\n",
    "df_funnel"
   ]
  },
  {
   "cell_type": "markdown",
   "metadata": {},
   "source": [
    "![](./pic/1.png)"
   ]
  },
  {
   "cell_type": "markdown",
   "metadata": {},
   "source": [
    "В Воронке мы можем отметить следующее:\n",
    "- В продукте достаточно высокая конверсия в начало использования \"Конфигуратора\" (более половины всех пользователей, которым показали страницу, запустили конфигуратор). Изходя из этого делаем вывод о том, что сам конфигуратов представляется интересным пользователям\n",
    "- Конферсия в работу с конфигуратором также достаточно высокая\n",
    "- Далее мы видим существенное снижение конверсии (только 9,3% пользователей долшщи до Home page магазина)"
   ]
  },
  {
   "cell_type": "markdown",
   "metadata": {},
   "source": [
    "Продолжим рассмотрение воронки далее:\n",
    "- В продукте хорошая конверсия из *Home page* в *basket config*\n",
    "- Также далее коверсия тоже очень хорошая вплоть до *Random button*. Возникает вопрос к функционалу такой кнопки. Возможно она сбивает пользователей. Возможно она стоит слишком поздно в Client Journey или с ней возникают другие проблемы у пользователей. Возможно стоит провести тест, чтобы ее убрать.\n",
    "- Далее по воронке существенное снижение возникает на этапе перехода в корзину (в целом это логично, но с этим скорее всего есть возможность поработать - сделать напоминание о корзине, подсветить ее или использовать другие методы)  \n",
    "Таким образом, только 2,8% пользователей доходит до корзины."
   ]
  },
  {
   "cell_type": "markdown",
   "metadata": {},
   "source": [
    "![](./pic/4.png)"
   ]
  },
  {
   "cell_type": "markdown",
   "metadata": {},
   "source": [
    "Сгруппируем некоторый Events и уберем events, которые не относятся к воронке Target action (payment)"
   ]
  },
  {
   "cell_type": "markdown",
   "metadata": {},
   "source": [
    "![](./pic/5.png)"
   ]
  },
  {
   "cell_type": "markdown",
   "metadata": {},
   "source": [
    "Мы видим, что Клиентский путь остается достаточно сложным и оставляет много вопросов к необходимости тех или иных этапов в воронке: Random button, product card submitted etc."
   ]
  },
  {
   "cell_type": "markdown",
   "metadata": {},
   "source": [
    "### Funnel в различных разрезах"
   ]
  },
  {
   "cell_type": "markdown",
   "metadata": {},
   "source": [
    "Посмотрим на воронку продукта в различных разрезах:\n",
    "- Язык (language)\n",
    "- Страны (country)\n",
    "- Регион (region)\n",
    "- OS\n",
    "- Утройства (device_type)\n",
    "- device_family\n"
   ]
  },
  {
   "cell_type": "code",
   "execution_count": 29,
   "metadata": {},
   "outputs": [
    {
     "data": {
      "text/html": [
       "<div>\n",
       "<style scoped>\n",
       "    .dataframe tbody tr th:only-of-type {\n",
       "        vertical-align: middle;\n",
       "    }\n",
       "\n",
       "    .dataframe tbody tr th {\n",
       "        vertical-align: top;\n",
       "    }\n",
       "\n",
       "    .dataframe thead th {\n",
       "        text-align: right;\n",
       "    }\n",
       "</style>\n",
       "<table border=\"1\" class=\"dataframe\">\n",
       "  <thead>\n",
       "    <tr style=\"text-align: right;\">\n",
       "      <th></th>\n",
       "      <th>session_id</th>\n",
       "      <th>event_type</th>\n",
       "      <th>device_type</th>\n",
       "    </tr>\n",
       "  </thead>\n",
       "  <tbody>\n",
       "    <tr>\n",
       "      <th>0</th>\n",
       "      <td>1698162134395</td>\n",
       "      <td>session_end</td>\n",
       "      <td>NaN</td>\n",
       "    </tr>\n",
       "    <tr>\n",
       "      <th>1</th>\n",
       "      <td>1698250740429</td>\n",
       "      <td>session_start</td>\n",
       "      <td>NaN</td>\n",
       "    </tr>\n",
       "  </tbody>\n",
       "</table>\n",
       "</div>"
      ],
      "text/plain": [
       "      session_id     event_type device_type\n",
       "0  1698162134395    session_end         NaN\n",
       "1  1698250740429  session_start         NaN"
      ]
     },
     "execution_count": 29,
     "metadata": {},
     "output_type": "execute_result"
    }
   ],
   "source": [
    "# device type:\n",
    "df_funnel_device = df_initial.copy()\n",
    "df_funnel_device = df_funnel_device[['session_id', 'event_type', 'device_type']]\n",
    "df_funnel_device = df_funnel_device.drop_duplicates()\n",
    "df_funnel_device.to_csv('./data/df_funnel_device.csv', sep='|', index=False)\n",
    "df_funnel_device.head(2)"
   ]
  },
  {
   "cell_type": "markdown",
   "metadata": {},
   "source": [
    "Рассмотрим следующие группы Устройств:  \n",
    "![](./pic/6.png)"
   ]
  },
  {
   "cell_type": "markdown",
   "metadata": {},
   "source": [
    "![](./pic/7.png)"
   ]
  },
  {
   "cell_type": "markdown",
   "metadata": {},
   "source": [
    "Выше мы отметили, что самое существенное падение конверсии происходит на переходе в *Home page viewed*  \n",
    "Сравним этот этап для различных типов устройств:\n",
    "- Base Funnel - все пользователи\n",
    "- Null - устройство неопределено\n",
    "- Iphone\n",
    "- Samsung\n",
    "- Other  \n",
    "\n",
    "    - Мы можем видеть что самая низкая конверсия на рассматриваемом этапе наблюдается для Iphone и Samsung (остается 6.12% и 5% изначального трафика соответственно, в то время как глобальная цифра 9.26%, то есть существенно выше.)  \n",
    "    - В категории *NULL*, то есть пользователи, чьи устройства не были идентифицированны, конверсия на этом этапе сопоставима с глобальным средним.\n",
    "    - Также видно, что наилучшая конверсия в этот этап происходит в категории Other. Куда входят не только трафик мобильных устройств, но и другие. Посмотрим на Other более подробно, чтобы выявить лидеров по конверсии...\n"
   ]
  },
  {
   "cell_type": "markdown",
   "metadata": {},
   "source": [
    "![](./pic/8.png)"
   ]
  },
  {
   "cell_type": "markdown",
   "metadata": {},
   "source": [
    "- Видим, что конверсия среди пользователей других мобильных устройств сопоставима с конверсией пользователей Iphone и Samsung (то есть также низкая)\n",
    "- В тоже время конверсия среди пользователей Windows, Mac и Linux (то есть Desktop платформ) существенно выше (38.45%).  \n",
    "  \n",
    "\n",
    "Изходя из этого можно сделать предположение о том, что для пользователей мобильных устройств на этом этапе возникает какой-то барьер (неверно отображаются элементы и т.п.)  "
   ]
  },
  {
   "cell_type": "markdown",
   "metadata": {},
   "source": [
    "# Выводы  \n",
    "Исходя из аналитики воронки продукта можно сделать следующие выводы:\n",
    "- Наиболее острая \"боль\" продукта - низкая конверсия в Home Page среди пользователей **мобильных устройств**. Необходимо провести детальный инвестигейт клиентского пути на этом этапе.\n",
    "- Также возниют вопросы о необходимости всех этапов клиентского пути (возможно стоит провести тесты для проверки гипотез о том, что те или иные элементы воронки являются лишними или неэффективными)"
   ]
  }
 ],
 "metadata": {
  "kernelspec": {
   "display_name": "Python 3",
   "language": "python",
   "name": "python3"
  },
  "language_info": {
   "codemirror_mode": {
    "name": "ipython",
    "version": 3
   },
   "file_extension": ".py",
   "mimetype": "text/x-python",
   "name": "python",
   "nbconvert_exporter": "python",
   "pygments_lexer": "ipython3",
   "version": "3.11.3"
  }
 },
 "nbformat": 4,
 "nbformat_minor": 2
}
